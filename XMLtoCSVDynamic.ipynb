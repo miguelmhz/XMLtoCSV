{
 "cells": [
  {
   "cell_type": "code",
   "execution_count": 8,
   "metadata": {},
   "outputs": [],
   "source": [
    "#Packages\n",
    "using EzXML\n",
    "using DataFrames\n",
    "using CSV\n",
    "using CSVFiles"
   ]
  },
  {
   "cell_type": "code",
   "execution_count": 21,
   "metadata": {},
   "outputs": [
    {
     "data": {
      "text/plain": [
       "3-element Array{String,1}:\n",
       " \"13preguntas.xml\"\n",
       " \"18preguntas.xml\"\n",
       " \"24preguntas.xml\""
      ]
     },
     "execution_count": 21,
     "metadata": {},
     "output_type": "execute_result"
    }
   ],
   "source": [
    "\n",
    "cd(\"C:\\\\Users\\\\migue\\\\Documents\\\\You-i Lab\\\\SenSky\\\\EncuestasDinamicas\")\n",
    "Surveys=filter!(s->occursin(r\".xml\", s),readdir())\n",
    "\n"
   ]
  },
  {
   "cell_type": "code",
   "execution_count": 22,
   "metadata": {},
   "outputs": [
    {
     "name": "stdout",
     "output_type": "stream",
     "text": [
      "24\n"
     ]
    }
   ],
   "source": [
    "#Determines the maximum size of the array\n",
    "global size=0\n",
    "for doc in Surveys\n",
    "    survey = root(readxml(\"$doc\"))\n",
    "    global v=Int[] \n",
    "    # Iterate over child elements.\n",
    "    for topic in eachelement(survey)\n",
    "        # Get an attribute value by name.\n",
    "        topics = topic[\"name\"]   \n",
    "        for Nquestion in eachelement(topic)  \n",
    "        push!(v, parse(Int, Nquestion[\"id\"]))   \n",
    "        end\n",
    "        if length(v)>size\n",
    "            size=length(v)\n",
    "        end  \n",
    "    end\n",
    "end\n",
    "println(size)"
   ]
  },
  {
   "cell_type": "code",
   "execution_count": 23,
   "metadata": {},
   "outputs": [
    {
     "name": "stdout",
     "output_type": "stream",
     "text": [
      "Listo :)\n"
     ]
    }
   ],
   "source": [
    "for document in Surveys\n",
    "    survey = root(readxml(\"$document\"))\n",
    "    AQ=AA=nombres=fill(\"nothing\", size+5)\n",
    "####### Iterate over child elements.\n",
    "    for topic in eachelement(survey)\n",
    "####### Get an attribute value by name.\n",
    "        topics = topic[\"name\"] \n",
    "        for Nquestion in eachelement(topic)\n",
    "        AQ[parse(Int, Nquestion[\"id\"])]=nodecontent(firstnode(Nquestion))\n",
    "        AA[parse(Int, Nquestion[\"id\"])]=nodecontent(findfirst(\"answer\", Nquestion)) \n",
    "        AA[parse(Int, Nquestion[\"id\"]) + 5]=AA[parse(Int, Nquestion[\"id\"])]\n",
    "        end\n",
    "    end\n",
    "    AA[1]= document\n",
    "    AA[2]= \"latitude\"\n",
    "    AA[3]= \"longitude\"\n",
    "    AA[4]= \"workshop-key\"\n",
    "    AA[5]= \"survey-key\"\n",
    "########  ARRAY TO STRING ARRAY\n",
    "        AA=string.(AA)\n",
    "########  ARRAY OF NAME\n",
    "       for i in 6:length(AA)\n",
    "        nombres[i] = \"Q$(i-5)\"  \n",
    "        end\n",
    "        nombres[1]=\"file-path\"\n",
    "        nombres[2]=\"latitude\"\n",
    "        nombres[3]=\"longitude\"\n",
    "        nombres[4]=\"workshop\"\n",
    "        nombres[5]=\"survey\"\n",
    "\n",
    "    pf=\"C:\\\\Users\\\\migue\\\\Documents\\\\You-i Lab\\\\SenSky\\\\surveyDinamica.csv\"   \n",
    "    if isfile(pf) #VERIFY IF THE FILE ALREADY EXISTS\n",
    "        df=string.(DataFrame(load(pf)))\n",
    "########check if the size of the df is different \n",
    "        if length(df[1,:])<length(AA)\n",
    "            for j in length(df[1,:])+1:length(AA)\n",
    "            insertcols!(df, j, nombres[j] => \"nothing\")\n",
    "            end    \n",
    "        end\n",
    "        if length(df[1,:])>length(AA)\n",
    "            difference  = length(df[1,:])- length(AA)\n",
    "            for j in length(AA)+1:length(df[1,:])\n",
    "            AA[j]= \"nothing\"\n",
    "            end    \n",
    "        end\n",
    "        \n",
    "########VERIFY IF THE SURVEY ALREADY EXISTS    \n",
    "        if document ∉ df[:,1] \n",
    "            push!(df, AA)\n",
    "            CSV.write(pf, df)\n",
    "        end\n",
    "    else  #CREATE FILE \n",
    "        df = DataFrame()\n",
    "        for j in 1:length(AA)\n",
    "        insertcols!(df, j, nombres[j] => AA[j])\n",
    "        end    \n",
    "        CSV.write(pf, df)\n",
    "    end  \n",
    "    \n",
    "end\n",
    "println(\"Listo :)\")"
   ]
  },
  {
   "cell_type": "code",
   "execution_count": null,
   "metadata": {},
   "outputs": [],
   "source": []
  }
 ],
 "metadata": {
  "kernelspec": {
   "display_name": "Julia 1.4.2",
   "language": "julia",
   "name": "julia-1.4"
  },
  "language_info": {
   "file_extension": ".jl",
   "mimetype": "application/julia",
   "name": "julia",
   "version": "1.4.2"
  }
 },
 "nbformat": 4,
 "nbformat_minor": 2
}
